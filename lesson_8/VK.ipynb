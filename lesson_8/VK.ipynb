{
 "cells": [
  {
   "cell_type": "markdown",
   "metadata": {},
   "source": [
    "# Python для сбора и обработки данных\n",
    "\n",
    "Автор: Валентин Бирюков"
   ]
  },
  {
   "cell_type": "markdown",
   "metadata": {},
   "source": [
    "## Задача - продолжаем собирать данные =)\n",
    "\n",
    "Теперь уже не с крупных сайтов компаний, а с \"площадок\". Рассмотрим это на примере VK.\n",
    "\n",
    "Пусть мы хотим как то изучить целивую аудиторию/следить за активностью в социальных сетях вокруг бренда, тд.\n",
    "\n",
    "У части таких платформ есть специальные \"ручки\" - инструменты, с помощью которых можно направлять запросы к порталу, не используя при этом танцы вокруг выцепления информации их хтмл кода страницы. Так и поступим.\n",
    "\n",
    "\n",
    "Документация: https://vk.com/dev"
   ]
  },
  {
   "cell_type": "markdown",
   "metadata": {},
   "source": [
    "# Задача 0 - аааа как с этим работать"
   ]
  },
  {
   "cell_type": "code",
   "execution_count": null,
   "metadata": {},
   "outputs": [],
   "source": [
    "! pip install vk"
   ]
  },
  {
   "cell_type": "code",
   "execution_count": 3,
   "metadata": {},
   "outputs": [],
   "source": [
    "import vk\n",
    "API_TOKEN_VK = 'TOKEN'\n",
    "session = vk.Session(access_token=API_TOKEN_VK)\n",
    "my_api = vk.API(session, v='5.103')"
   ]
  },
  {
   "cell_type": "markdown",
   "metadata": {},
   "source": [
    "# Задача 1 - Собрать три круга друзей"
   ]
  },
  {
   "cell_type": "code",
   "execution_count": 4,
   "metadata": {},
   "outputs": [
    {
     "name": "stdout",
     "output_type": "stream",
     "text": [
      "[{'id': 21785564, 'first_name': 'Валентин', 'last_name': 'Бирюков', 'is_closed': False, 'can_access_closed': True}]\n"
     ]
    }
   ],
   "source": [
    "user_to_prepare = 'valentin.biryukov' \n",
    "\n",
    "user_info = my_api.users.get(user_ids=user_to_prepare)\n",
    "print(user_info)\n",
    "start_id = user_info[0]['id']"
   ]
  },
  {
   "cell_type": "code",
   "execution_count": 5,
   "metadata": {},
   "outputs": [
    {
     "name": "stdout",
     "output_type": "stream",
     "text": [
      "{'count': 86, 'items': [398045, 409037, 1538693, 2956433, 4228387, 4516987, 5317749, 5334461, 5412679, 5417191, 10348887, 10873145, 11164850, 13275626, 14204056, 15945852, 17336364, 20580174, 22304277, 24874560, 24976336, 30606127, 30816900, 34248421, 34746243, 36623405, 38459100, 38830624, 38900678, 44898863, 47402039, 47672038, 49915195, 50489710, 51121895, 52203550, 53847565, 54782818, 56726638, 59536344, 61657552, 62902082, 66865352, 68603392, 68812424, 71542865, 72937909, 76702064, 85427885, 88293148, 95437665, 97341087, 106480301, 107098336, 107916896, 107920824, 112162069, 114355530, 114776804, 114904924, 122307165, 124821194, 125824662, 145762347, 148396546, 152426005, 156561760, 161176665, 165968752, 177372466, 209463582, 209662408, 213734038, 227227659, 262217495, 271656949, 275633587, 283975933, 295142987, 317187625, 321409001, 370549931, 560118043, 562252903, 566953060, 574103916]}\n"
     ]
    }
   ],
   "source": [
    "\n",
    "friends_first_hand = my_api.friends.get(user_id=start_id)\n",
    "print(friends_first_hand)\n",
    "friends_first_hand_id = friends_first_hand['items']"
   ]
  },
  {
   "cell_type": "markdown",
   "metadata": {},
   "source": [
    "# Задача 2 - посчитаем \"охват\" "
   ]
  },
  {
   "cell_type": "code",
   "execution_count": null,
   "metadata": {},
   "outputs": [],
   "source": []
  },
  {
   "cell_type": "code",
   "execution_count": null,
   "metadata": {},
   "outputs": [],
   "source": []
  },
  {
   "cell_type": "markdown",
   "metadata": {},
   "source": [
    "# Задача 3 - \"создадим портрет ЦА\""
   ]
  },
  {
   "cell_type": "code",
   "execution_count": null,
   "metadata": {},
   "outputs": [],
   "source": []
  }
 ],
 "metadata": {
  "kernelspec": {
   "display_name": "Python 3",
   "language": "python",
   "name": "python3"
  },
  "language_info": {
   "codemirror_mode": {
    "name": "ipython",
    "version": 3
   },
   "file_extension": ".py",
   "mimetype": "text/x-python",
   "name": "python",
   "nbconvert_exporter": "python",
   "pygments_lexer": "ipython3",
   "version": "3.7.0"
  }
 },
 "nbformat": 4,
 "nbformat_minor": 2
}
