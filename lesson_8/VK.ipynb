{
 "cells": [
  {
   "cell_type": "markdown",
   "metadata": {},
   "source": [
    "# Python для сбора и обработки данных\n",
    "\n",
    "Автор: Валентин Бирюков"
   ]
  },
  {
   "cell_type": "markdown",
   "metadata": {},
   "source": [
    "## Задача - продолжаем собирать данные =)\n",
    "\n",
    "Теперь уже не с крупных сайтов компаний, а с \"площадок\". Рассмотрим это на примере VK.\n",
    "\n",
    "Пусть мы хотим как то изучить целивую аудиторию/следить за активностью в социальных сетях вокруг бренда, тд.\n",
    "\n",
    "У части таких платформ есть специальные \"ручки\" - инструменты, с помощью которых можно направлять запросы к порталу, не используя при этом танцы вокруг выцепления информации их хтмл кода страницы. Так и поступим.\n",
    "\n",
    "\n",
    "Документация: https://vk.com/dev"
   ]
  },
  {
   "cell_type": "markdown",
   "metadata": {},
   "source": [
    "# Задача 0 - аааа как с этим работать"
   ]
  },
  {
   "cell_type": "code",
   "execution_count": 3,
   "metadata": {},
   "outputs": [
    {
     "name": "stdout",
     "output_type": "stream",
     "text": [
      "Requirement already satisfied: vk in /Users/biryuk/anaconda3/lib/python3.7/site-packages (2.0.2)\n",
      "Requirement already satisfied: requests<3.0,>=2.8 in /Users/biryuk/anaconda3/lib/python3.7/site-packages (from vk) (2.21.0)\n",
      "Requirement already satisfied: chardet<3.1.0,>=3.0.2 in /Users/biryuk/anaconda3/lib/python3.7/site-packages (from requests<3.0,>=2.8->vk) (3.0.4)\n",
      "Requirement already satisfied: urllib3<1.25,>=1.21.1 in /Users/biryuk/anaconda3/lib/python3.7/site-packages (from requests<3.0,>=2.8->vk) (1.24.1)\n",
      "Requirement already satisfied: idna<2.9,>=2.5 in /Users/biryuk/anaconda3/lib/python3.7/site-packages (from requests<3.0,>=2.8->vk) (2.8)\n",
      "Requirement already satisfied: certifi>=2017.4.17 in /Users/biryuk/anaconda3/lib/python3.7/site-packages (from requests<3.0,>=2.8->vk) (2019.3.9)\n"
     ]
    }
   ],
   "source": [
    "! pip install vk"
   ]
  },
  {
   "cell_type": "code",
   "execution_count": 31,
   "metadata": {},
   "outputs": [],
   "source": [
    "import vk\n",
    "API_TOKEN_VK = 'TOKEN'\n",
    "API_TOKEN_VK_2 = 'TOKEN'\n",
    "session = vk.Session(access_token=API_TOKEN_VK)\n",
    "my_api = vk.API(session, v='5.21')"
   ]
  },
  {
   "cell_type": "code",
   "execution_count": 32,
   "metadata": {},
   "outputs": [],
   "source": [
    "session_2 = vk.Session(access_token=API_TOKEN_VK_2)\n",
    "my_api_2 = vk.API(session, v='5.21')"
   ]
  },
  {
   "cell_type": "code",
   "execution_count": 9,
   "metadata": {},
   "outputs": [
    {
     "data": {
      "text/plain": [
       "1.0"
      ]
     },
     "execution_count": 9,
     "metadata": {},
     "output_type": "execute_result"
    }
   ],
   "source": [
    "86400/60/60/24"
   ]
  },
  {
   "cell_type": "markdown",
   "metadata": {},
   "source": [
    "# Задача 1 - Собрать три круга друзей"
   ]
  },
  {
   "cell_type": "code",
   "execution_count": 10,
   "metadata": {},
   "outputs": [
    {
     "name": "stdout",
     "output_type": "stream",
     "text": [
      "[{'id': 21785564, 'first_name': 'Валентин', 'last_name': 'Бирюков'}]\n"
     ]
    }
   ],
   "source": [
    "user_to_prepare = 'valentin.biryukov' \n",
    "\n",
    "user_info = my_api.users.get(user_ids=user_to_prepare)\n",
    "print(user_info)\n",
    "start_id = user_info[0]['id']"
   ]
  },
  {
   "cell_type": "code",
   "execution_count": 11,
   "metadata": {},
   "outputs": [
    {
     "name": "stdout",
     "output_type": "stream",
     "text": [
      "{'count': 86, 'items': [398045, 409037, 1538693, 2956433, 4228387, 4516987, 5317749, 5334461, 5412679, 5417191, 10348887, 10873145, 11164850, 13275626, 14204056, 15945852, 17336364, 20580174, 22304277, 24874560, 24976336, 30606127, 30816900, 34248421, 34746243, 36623405, 38459100, 38830624, 38900678, 44898863, 47402039, 47672038, 49915195, 50489710, 51121895, 52203550, 53847565, 54782818, 56726638, 59536344, 61657552, 62902082, 66865352, 68603392, 68812424, 71542865, 72937909, 76702064, 85427885, 88293148, 95437665, 97341087, 106480301, 107098336, 107916896, 107920824, 112162069, 114355530, 114776804, 114904924, 122307165, 124821194, 125824662, 145762347, 148396546, 152426005, 156561760, 161176665, 165968752, 177372466, 209463582, 209662408, 213734038, 227227659, 262217495, 271656949, 275633587, 283975933, 295142987, 317187625, 321409001, 370549931, 560118043, 562252903, 566953060, 574103916]}\n"
     ]
    }
   ],
   "source": [
    "friends_first_hand = my_api.friends.get(user_id=start_id)\n",
    "print(friends_first_hand)\n",
    "friends_first_hand_id = friends_first_hand['items']"
   ]
  },
  {
   "cell_type": "code",
   "execution_count": 21,
   "metadata": {},
   "outputs": [],
   "source": [
    "from time import sleep"
   ]
  },
  {
   "cell_type": "code",
   "execution_count": 35,
   "metadata": {},
   "outputs": [],
   "source": [
    "apis = [my_api, my_api_2]"
   ]
  },
  {
   "cell_type": "code",
   "execution_count": 39,
   "metadata": {},
   "outputs": [],
   "source": [
    "friends_second_hand = []\n",
    "for i, fr in enumerate(friends_first_hand_id):\n",
    "    api = apis[i%len(apis)]\n",
    "    friends_second_hand.extend(api.friends.get(user_id=fr)['items'])\n",
    "    sleep(0.3)\n",
    "friends_second_hand = list(set(friends_second_hand))"
   ]
  },
  {
   "cell_type": "code",
   "execution_count": 42,
   "metadata": {},
   "outputs": [],
   "source": [
    "friends_3_hand = []\n",
    "for i, fr in enumerate(friends_second_hand[:300]):\n",
    "    api = apis[i%len(apis)]\n",
    "    try:\n",
    "        friends_3_hand.extend(api.friends.get(user_id=fr)['items'])\n",
    "        sleep(0.3)\n",
    "    except:\n",
    "        pass\n",
    "friends_3_hand = list(set(friends_3_hand))"
   ]
  },
  {
   "cell_type": "markdown",
   "metadata": {},
   "source": [
    "# Задача 2 - посчитаем \"охват\" "
   ]
  },
  {
   "cell_type": "code",
   "execution_count": 48,
   "metadata": {},
   "outputs": [
    {
     "data": {
      "text/plain": [
       "100"
      ]
     },
     "execution_count": 48,
     "metadata": {},
     "output_type": "execute_result"
    }
   ],
   "source": [
    "group = -72495085\n",
    "post_ids = [item['id'] for item in my_api.wall.get(owner_id=group, count=100)['items']]\n",
    "len(post_ids)"
   ]
  },
  {
   "cell_type": "code",
   "execution_count": 49,
   "metadata": {},
   "outputs": [
    {
     "data": {
      "text/plain": [
       "990"
      ]
     },
     "execution_count": 49,
     "metadata": {},
     "output_type": "execute_result"
    }
   ],
   "source": [
    "comments = []\n",
    "for post_id in post_ids:\n",
    "    info = my_api.wall.getComments(owner_id=group, post_id=post_id)['items']\n",
    "    topic = [\n",
    "        {\n",
    "            'user_id': item['from_id'],\n",
    "            'comment_id': item['id']\n",
    "        } for item in info\n",
    "    ]\n",
    "    comments.extend(topic)\n",
    "    sleep(0.3)\n",
    "len(comments)"
   ]
  },
  {
   "cell_type": "code",
   "execution_count": 55,
   "metadata": {},
   "outputs": [],
   "source": [
    "likes_users_post = []\n",
    "for post_id in post_ids:\n",
    "    likes_users_post.extend([my_api.likes.getList(type='post', owner_id=group, item_id=post_id)['items']])\n",
    "    sleep(0.3)\n"
   ]
  },
  {
   "cell_type": "code",
   "execution_count": null,
   "metadata": {},
   "outputs": [],
   "source": [
    "likes_users_comment = []\n",
    "for comments_id in comments:\n",
    "    likes_users_comment.extend([my_api.likes.getList(type='comment', owner_id=group, item_id=comments_id['comment_id'])['items']])\n",
    "    sleep(0.3)"
   ]
  },
  {
   "cell_type": "code",
   "execution_count": null,
   "metadata": {},
   "outputs": [],
   "source": [
    "commentators = [item['comment_id'] for item in comments]"
   ]
  },
  {
   "cell_type": "code",
   "execution_count": null,
   "metadata": {},
   "outputs": [],
   "source": [
    "print(likes_users_post)\n",
    "print(len(set(likes_users_post)))\n",
    "\n",
    "print('-------------')\n",
    "\n",
    "print(likes_users_comment)\n",
    "print(len(set(likes_users_comment)))\n",
    "\n",
    "print('-------------')\n",
    "\n",
    "print(likes_users_post+likes_users_comment+commentators)\n",
    "print(len(set(likes_users_post+likes_users_comment+commentators)))"
   ]
  },
  {
   "cell_type": "markdown",
   "metadata": {},
   "source": [
    "# Задача 3 - \"создадим портрет ЦА\""
   ]
  },
  {
   "cell_type": "code",
   "execution_count": null,
   "metadata": {},
   "outputs": [],
   "source": []
  }
 ],
 "metadata": {
  "kernelspec": {
   "display_name": "Python 3",
   "language": "python",
   "name": "python3"
  },
  "language_info": {
   "codemirror_mode": {
    "name": "ipython",
    "version": 3
   },
   "file_extension": ".py",
   "mimetype": "text/x-python",
   "name": "python",
   "nbconvert_exporter": "python",
   "pygments_lexer": "ipython3",
   "version": "3.7.0"
  }
 },
 "nbformat": 4,
 "nbformat_minor": 2
}
