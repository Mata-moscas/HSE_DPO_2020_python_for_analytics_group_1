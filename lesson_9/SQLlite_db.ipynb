{
 "cells": [
  {
   "cell_type": "markdown",
   "metadata": {},
   "source": [
    "# Python для сбора и обработки данных\n",
    "\n",
    "Автор: Валентин Бирюков"
   ]
  },
  {
   "cell_type": "markdown",
   "metadata": {},
   "source": [
    "# Базы данных в юпитере - sqllite"
   ]
  },
  {
   "cell_type": "code",
   "execution_count": 2,
   "metadata": {},
   "outputs": [],
   "source": [
    "!pip install --user --upgrade ipython-sql -q"
   ]
  },
  {
   "cell_type": "code",
   "execution_count": 3,
   "metadata": {},
   "outputs": [],
   "source": [
    "%load_ext sql\n",
    "%sql sqlite://"
   ]
  },
  {
   "cell_type": "markdown",
   "metadata": {},
   "source": [
    "Пара замечаний:\n",
    " * Мы используем веб-интерфейс для python, поэтому для запуска SQL запросов необходимо применить ряд вещей:\n",
    "     * Необходимо подключить расширение SQL через так называемые magic command. [Более подробно здесь](https://ipython.readthedocs.io/en/stable/interactive/magics.html)\n",
    "     * Для работы с SQL надо вызвать либо %sql для однострочной команды, либо %%sql - для многострочной\n",
    "     * При использовании выражения SELECT результатом вывода является таблица, но при этом в notebook выводится уже внутренне представление языка python (объект класса sql.run.resultset, подробности далее), что приводит к ряду несоответствий (например, None вместо NULL)"
   ]
  },
  {
   "cell_type": "code",
   "execution_count": 4,
   "metadata": {},
   "outputs": [
    {
     "name": "stdout",
     "output_type": "stream",
     "text": [
      " * sqlite://\n",
      "Done.\n",
      "Done.\n",
      "1 rows affected.\n",
      "1 rows affected.\n",
      "1 rows affected.\n",
      "1 rows affected.\n"
     ]
    },
    {
     "data": {
      "text/plain": [
       "[]"
      ]
     },
     "execution_count": 4,
     "metadata": {},
     "output_type": "execute_result"
    }
   ],
   "source": [
    "%%sql drop table if exists product;\n",
    "create table product(\n",
    "       pname        varchar primary key, -- имя продукта\n",
    "       price        money,               -- цена продукта\n",
    "       category     varchar,             -- категория\n",
    "       manufacturer varchar NOT NULL     -- производитель\n",
    ");\n",
    "insert into product values('Пряник', 19.99, 'Еда', 'Тульский пряник');\n",
    "insert into product values('Тетрадь', 29.99, 'Канцелярия', 'Эксмо');\n",
    "insert into product values('Печенье', 149.99, 'Еда', 'WagonWiels');\n",
    "insert into product values('Планшет', 203.99, 'Техника', 'Zua');"
   ]
  },
  {
   "cell_type": "markdown",
   "metadata": {},
   "source": [
    "Посмотрим на полученную таблицу."
   ]
  },
  {
   "cell_type": "code",
   "execution_count": 5,
   "metadata": {},
   "outputs": [
    {
     "name": "stdout",
     "output_type": "stream",
     "text": [
      " * sqlite://\n",
      "Done.\n"
     ]
    },
    {
     "data": {
      "text/html": [
       "<table>\n",
       "    <tr>\n",
       "        <th>pname</th>\n",
       "        <th>price</th>\n",
       "        <th>category</th>\n",
       "        <th>manufacturer</th>\n",
       "    </tr>\n",
       "    <tr>\n",
       "        <td>Пряник</td>\n",
       "        <td>19.99</td>\n",
       "        <td>Еда</td>\n",
       "        <td>Тульский пряник</td>\n",
       "    </tr>\n",
       "    <tr>\n",
       "        <td>Тетрадь</td>\n",
       "        <td>29.99</td>\n",
       "        <td>Канцелярия</td>\n",
       "        <td>Эксмо</td>\n",
       "    </tr>\n",
       "    <tr>\n",
       "        <td>Печенье</td>\n",
       "        <td>149.99</td>\n",
       "        <td>Еда</td>\n",
       "        <td>WagonWiels</td>\n",
       "    </tr>\n",
       "    <tr>\n",
       "        <td>Планшет</td>\n",
       "        <td>203.99</td>\n",
       "        <td>Техника</td>\n",
       "        <td>Zua</td>\n",
       "    </tr>\n",
       "</table>"
      ],
      "text/plain": [
       "[('Пряник', 19.99, 'Еда', 'Тульский пряник'),\n",
       " ('Тетрадь', 29.99, 'Канцелярия', 'Эксмо'),\n",
       " ('Печенье', 149.99, 'Еда', 'WagonWiels'),\n",
       " ('Планшет', 203.99, 'Техника', 'Zua')]"
      ]
     },
     "execution_count": 5,
     "metadata": {},
     "output_type": "execute_result"
    }
   ],
   "source": [
    "%sql select * from product;"
   ]
  },
  {
   "cell_type": "code",
   "execution_count": 6,
   "metadata": {},
   "outputs": [
    {
     "name": "stdout",
     "output_type": "stream",
     "text": [
      " * sqlite://\n",
      "Done.\n"
     ]
    }
   ],
   "source": [
    "product_result=%sql select * from product"
   ]
  },
  {
   "cell_type": "code",
   "execution_count": 7,
   "metadata": {},
   "outputs": [
    {
     "name": "stdout",
     "output_type": "stream",
     "text": [
      "<class 'sql.run.ResultSet'>\n",
      "+---------+--------+------------+-----------------+\n",
      "|  pname  | price  |  category  |   manufacturer  |\n",
      "+---------+--------+------------+-----------------+\n",
      "|  Пряник | 19.99  |    Еда     | Тульский пряник |\n",
      "| Тетрадь | 29.99  | Канцелярия |      Эксмо      |\n",
      "| Печенье | 149.99 |    Еда     |    WagonWiels   |\n",
      "| Планшет | 203.99 |  Техника   |       Zua       |\n",
      "+---------+--------+------------+-----------------+\n"
     ]
    }
   ],
   "source": [
    "print(type(product_result))\n",
    "print(product_result)"
   ]
  },
  {
   "cell_type": "markdown",
   "metadata": {},
   "source": [
    "Немного SQL терминологии\n",
    "--------------------------\n",
    "* _имя_ таблицы - product.\n",
    "* Каждая строка таблицы называется _строкой_ или _кортеж_. \n",
    "* Заметьте, что все кортежи имеют _поля_ или _атрибуты_.\n",
    "* Количество строк называет _мощностью_, в то время как количество атрибутов _арностью_ "
   ]
  },
  {
   "cell_type": "markdown",
   "metadata": {},
   "source": [
    "Соглашения схемы\n",
    "-----------------\n",
    "* Схема таблицы продукта может быть описана следующим образом:\n",
    "\n",
    "> product(<u>pname</u>, price, category, manufacturer)\n",
    "\n",
    "Подчеркнутое множество атрибутов формирует  _ключ_.\n",
    "\n",
    "* В этом случае ключ - pname. Если имя продукта было бы только уникальным для указнного производителя мы бы написали:\n",
    "\n",
    "> product(<u>pname</u>, price, category, <u>manufacturer</u>)\n"
   ]
  },
  {
   "cell_type": "markdown",
   "metadata": {},
   "source": [
    "Описание таблиц. Допущения \n",
    "----------------\n",
    "* Кортеж = запись (На текушем уровне понимания, на самом деле это не так)\n",
    "  * Ограничение: все атрибуты - атомарного типа (это тоже не совсем корректное утверждение, так как существует довольно сложные типы)\n",
    "  * Существует множество атомарных типов для SQL, например, по postgresQL можно посмотреть [здесь](http://www.postgresql.org/docs/9.4/static/datatype.html)\n",
    "  .\n",
    "\n",
    "\n",
    "* Таблица = мультимножество кортежей \n",
    "  * Мультимножество похоже на список\n",
    "  * ... Но по определению оно не упорядочено: \n",
    "    * нет first(), нет next(), нет last()."
   ]
  },
  {
   "cell_type": "markdown",
   "metadata": {},
   "source": [
    "# Простые запросы\n",
    "* Рассмотрим основы SQL на примере\n",
    "* В интернете очень много SQL туториалов, сейчас мы всего лишь вспомним базовые вещи"
   ]
  },
  {
   "cell_type": "markdown",
   "metadata": {},
   "source": [
    "> SELECT <Множество атрибутов><br>\n",
    "> FROM <список таблиц и условие на соединение><br>\n",
    "> WHERE <список условий>\n",
    "\n",
    "Это простейший SELECT-FROM-WHERE (SFW) блок. Давайте посмотрим на примерах!"
   ]
  },
  {
   "cell_type": "code",
   "execution_count": 8,
   "metadata": {},
   "outputs": [
    {
     "name": "stdout",
     "output_type": "stream",
     "text": [
      " * sqlite://\n",
      "Done.\n"
     ]
    },
    {
     "data": {
      "text/html": [
       "<table>\n",
       "    <tr>\n",
       "        <th>pname</th>\n",
       "        <th>price</th>\n",
       "        <th>category</th>\n",
       "        <th>manufacturer</th>\n",
       "    </tr>\n",
       "    <tr>\n",
       "        <td>Тетрадь</td>\n",
       "        <td>29.99</td>\n",
       "        <td>Канцелярия</td>\n",
       "        <td>Эксмо</td>\n",
       "    </tr>\n",
       "</table>"
      ],
      "text/plain": [
       "[('Тетрадь', 29.99, 'Канцелярия', 'Эксмо')]"
      ]
     },
     "execution_count": 8,
     "metadata": {},
     "output_type": "execute_result"
    }
   ],
   "source": [
    "%%sql\n",
    "SELECT * \n",
    "  FROM Product \n",
    " WHERE category = 'Канцелярия' \n",
    "   AND manufacturer = 'Эксмо'\n"
   ]
  },
  {
   "cell_type": "markdown",
   "metadata": {},
   "source": [
    "Посмотрим на примеры *проекции*, то есть получим только несколько атрибутов запроса."
   ]
  },
  {
   "cell_type": "code",
   "execution_count": 9,
   "metadata": {},
   "outputs": [
    {
     "name": "stdout",
     "output_type": "stream",
     "text": [
      " * sqlite://\n",
      "Done.\n"
     ]
    },
    {
     "data": {
      "text/html": [
       "<table>\n",
       "    <tr>\n",
       "        <th>pname</th>\n",
       "        <th>price</th>\n",
       "        <th>manufacturer</th>\n",
       "    </tr>\n",
       "    <tr>\n",
       "        <td>Пряник</td>\n",
       "        <td>19.99</td>\n",
       "        <td>Тульский пряник</td>\n",
       "    </tr>\n",
       "    <tr>\n",
       "        <td>Тетрадь</td>\n",
       "        <td>29.99</td>\n",
       "        <td>Эксмо</td>\n",
       "    </tr>\n",
       "    <tr>\n",
       "        <td>Печенье</td>\n",
       "        <td>149.99</td>\n",
       "        <td>WagonWiels</td>\n",
       "    </tr>\n",
       "    <tr>\n",
       "        <td>Планшет</td>\n",
       "        <td>203.99</td>\n",
       "        <td>Zua</td>\n",
       "    </tr>\n",
       "</table>"
      ],
      "text/plain": [
       "[('Пряник', 19.99, 'Тульский пряник'),\n",
       " ('Тетрадь', 29.99, 'Эксмо'),\n",
       " ('Печенье', 149.99, 'WagonWiels'),\n",
       " ('Планшет', 203.99, 'Zua')]"
      ]
     },
     "execution_count": 9,
     "metadata": {},
     "output_type": "execute_result"
    }
   ],
   "source": [
    "%%sql \n",
    "SELECT Pname, \n",
    "       Price, \n",
    "       Manufacturer\n",
    "  FROM Product;"
   ]
  },
  {
   "cell_type": "markdown",
   "metadata": {},
   "source": [
    "На выходе запроса к таблице - снова таблица \n",
    "---------------------------------"
   ]
  },
  {
   "cell_type": "code",
   "execution_count": 11,
   "metadata": {},
   "outputs": [
    {
     "name": "stdout",
     "output_type": "stream",
     "text": [
      " * sqlite://\n",
      "Done.\n"
     ]
    },
    {
     "data": {
      "text/html": [
       "<table>\n",
       "    <tr>\n",
       "        <th>manufacturer</th>\n",
       "        <th>pname</th>\n",
       "        <th>price</th>\n",
       "    </tr>\n",
       "    <tr>\n",
       "        <td>WagonWiels</td>\n",
       "        <td>Печенье</td>\n",
       "        <td>149.99</td>\n",
       "    </tr>\n",
       "</table>"
      ],
      "text/plain": [
       "[('WagonWiels', 'Печенье', 149.99)]"
      ]
     },
     "execution_count": 11,
     "metadata": {},
     "output_type": "execute_result"
    }
   ],
   "source": [
    "%%sql\n",
    "SELECT\n",
    "    p.manufacturer, p.pname, p.price\n",
    "FROM \n",
    "    (SELECT distinct p0.category\n",
    "     FROM Product p0\n",
    "     WHERE p0.price < 20.00) cp, -- this is a nested query!\n",
    "    Product p\n",
    "WHERE \n",
    "    p.category = cp.category and p.price > 20.00"
   ]
  },
  {
   "cell_type": "markdown",
   "metadata": {},
   "source": [
    "Небольшие детали\n",
    "--------------\n",
    "\n",
    "* Некоторые элементы регистро-независимые:\n",
    "  * Одно и то же: SELECT  Select  select\n",
    "  * Одно и то же: Product   product\n",
    "  * Разные: ‘Seattle’  ‘seattle’ (Здесь это строковая константа)\n",
    "    * Строго говоря, в большинстве случаев это зависит от настроек СУБД\n",
    "  \n",
    "\n",
    "* Константы (одинарные кавычки)\n",
    "  * ‘abc’  - да\n",
    "  * “abc” - нет\n"
   ]
  },
  {
   "cell_type": "code",
   "execution_count": 12,
   "metadata": {},
   "outputs": [
    {
     "name": "stdout",
     "output_type": "stream",
     "text": [
      " * sqlite://\n",
      "Done.\n"
     ]
    },
    {
     "data": {
      "text/html": [
       "<table>\n",
       "    <tr>\n",
       "        <th>pname</th>\n",
       "        <th>price</th>\n",
       "        <th>category</th>\n",
       "        <th>manufacturer</th>\n",
       "    </tr>\n",
       "    <tr>\n",
       "        <td>Пряник</td>\n",
       "        <td>19.99</td>\n",
       "        <td>Еда</td>\n",
       "        <td>Тульский пряник</td>\n",
       "    </tr>\n",
       "    <tr>\n",
       "        <td>Тетрадь</td>\n",
       "        <td>29.99</td>\n",
       "        <td>Канцелярия</td>\n",
       "        <td>Эксмо</td>\n",
       "    </tr>\n",
       "    <tr>\n",
       "        <td>Печенье</td>\n",
       "        <td>149.99</td>\n",
       "        <td>Еда</td>\n",
       "        <td>WagonWiels</td>\n",
       "    </tr>\n",
       "    <tr>\n",
       "        <td>Планшет</td>\n",
       "        <td>203.99</td>\n",
       "        <td>Техника</td>\n",
       "        <td>Zua</td>\n",
       "    </tr>\n",
       "</table>"
      ],
      "text/plain": [
       "[('Пряник', 19.99, 'Еда', 'Тульский пряник'),\n",
       " ('Тетрадь', 29.99, 'Канцелярия', 'Эксмо'),\n",
       " ('Печенье', 149.99, 'Еда', 'WagonWiels'),\n",
       " ('Планшет', 203.99, 'Техника', 'Zua')]"
      ]
     },
     "execution_count": 12,
     "metadata": {},
     "output_type": "execute_result"
    }
   ],
   "source": [
    "%sql select * from product;"
   ]
  },
  {
   "cell_type": "markdown",
   "metadata": {},
   "source": [
    "LIKE\n",
    "====\n",
    "\n",
    "Опертоор LIKE нужен для поиска строк:\n",
    "    \n",
    "> SELECT *\n",
    "> FROM Products\n",
    "> WHERE pname like '%gizmo%'\n",
    "\n",
    "Like - \"сильно урезанный\" regexp\n",
    "* % - сколько угодно символов\n",
    "* \\_ ровно один символ\n",
    "* оператор LIKE - регистрозависимый"
   ]
  },
  {
   "cell_type": "code",
   "execution_count": 14,
   "metadata": {},
   "outputs": [
    {
     "name": "stdout",
     "output_type": "stream",
     "text": [
      " * sqlite://\n",
      "Done.\n"
     ]
    },
    {
     "data": {
      "text/html": [
       "<table>\n",
       "    <tr>\n",
       "        <th>pname</th>\n",
       "        <th>price</th>\n",
       "        <th>category</th>\n",
       "        <th>manufacturer</th>\n",
       "    </tr>\n",
       "    <tr>\n",
       "        <td>Пряник</td>\n",
       "        <td>19.99</td>\n",
       "        <td>Еда</td>\n",
       "        <td>Тульский пряник</td>\n",
       "    </tr>\n",
       "    <tr>\n",
       "        <td>Печенье</td>\n",
       "        <td>149.99</td>\n",
       "        <td>Еда</td>\n",
       "        <td>WagonWiels</td>\n",
       "    </tr>\n",
       "</table>"
      ],
      "text/plain": [
       "[('Пряник', 19.99, 'Еда', 'Тульский пряник'),\n",
       " ('Печенье', 149.99, 'Еда', 'WagonWiels')]"
      ]
     },
     "execution_count": 14,
     "metadata": {},
     "output_type": "execute_result"
    }
   ],
   "source": [
    "%%sql\n",
    "SELECT *  FROM product\n",
    "where category LIKE '%да%'"
   ]
  },
  {
   "cell_type": "markdown",
   "metadata": {},
   "source": [
    "Убрать дубли\n",
    "---------------------\n",
    "* Дубли не всегда хорошо, и иногда их стоит убирать\n",
    "  * Помните, что таблицы - _мультимножества_!"
   ]
  },
  {
   "cell_type": "code",
   "execution_count": 15,
   "metadata": {},
   "outputs": [
    {
     "name": "stdout",
     "output_type": "stream",
     "text": [
      " * sqlite://\n",
      "Done.\n"
     ]
    },
    {
     "data": {
      "text/html": [
       "<table>\n",
       "    <tr>\n",
       "        <th>category</th>\n",
       "    </tr>\n",
       "    <tr>\n",
       "        <td>Еда</td>\n",
       "    </tr>\n",
       "    <tr>\n",
       "        <td>Канцелярия</td>\n",
       "    </tr>\n",
       "    <tr>\n",
       "        <td>Еда</td>\n",
       "    </tr>\n",
       "    <tr>\n",
       "        <td>Техника</td>\n",
       "    </tr>\n",
       "</table>"
      ],
      "text/plain": [
       "[('Еда',), ('Канцелярия',), ('Еда',), ('Техника',)]"
      ]
     },
     "execution_count": 15,
     "metadata": {},
     "output_type": "execute_result"
    }
   ],
   "source": [
    "%sql SELECT category from product;"
   ]
  },
  {
   "cell_type": "code",
   "execution_count": 16,
   "metadata": {},
   "outputs": [
    {
     "name": "stdout",
     "output_type": "stream",
     "text": [
      " * sqlite://\n",
      "Done.\n"
     ]
    },
    {
     "data": {
      "text/html": [
       "<table>\n",
       "    <tr>\n",
       "        <th>category</th>\n",
       "    </tr>\n",
       "    <tr>\n",
       "        <td>Еда</td>\n",
       "    </tr>\n",
       "    <tr>\n",
       "        <td>Канцелярия</td>\n",
       "    </tr>\n",
       "    <tr>\n",
       "        <td>Техника</td>\n",
       "    </tr>\n",
       "</table>"
      ],
      "text/plain": [
       "[('Еда',), ('Канцелярия',), ('Техника',)]"
      ]
     },
     "execution_count": 16,
     "metadata": {},
     "output_type": "execute_result"
    }
   ],
   "source": [
    "%%sql \n",
    "-- чтобы убрать дубли используйте слово DISTINCT\n",
    "SELECT DISTINCT category from product;"
   ]
  },
  {
   "cell_type": "markdown",
   "metadata": {},
   "source": [
    "Сортировка результатов\n",
    "---------------------\n",
    "* Так как Таблица - это мультимножество, то порядок вывода строк не гарантирован. Иногда необходимо выводить строки в определенном порядке\n"
   ]
  },
  {
   "cell_type": "code",
   "execution_count": 17,
   "metadata": {},
   "outputs": [
    {
     "name": "stdout",
     "output_type": "stream",
     "text": [
      " * sqlite://\n",
      "Done.\n"
     ]
    },
    {
     "data": {
      "text/html": [
       "<table>\n",
       "    <tr>\n",
       "        <th>pname</th>\n",
       "        <th>price</th>\n",
       "        <th>manufacturer</th>\n",
       "    </tr>\n",
       "    <tr>\n",
       "        <td>Печенье</td>\n",
       "        <td>149.99</td>\n",
       "        <td>WagonWiels</td>\n",
       "    </tr>\n",
       "    <tr>\n",
       "        <td>Планшет</td>\n",
       "        <td>203.99</td>\n",
       "        <td>Zua</td>\n",
       "    </tr>\n",
       "</table>"
      ],
      "text/plain": [
       "[('Печенье', 149.99, 'WagonWiels'), ('Планшет', 203.99, 'Zua')]"
      ]
     },
     "execution_count": 17,
     "metadata": {},
     "output_type": "execute_result"
    }
   ],
   "source": [
    "%%sql\n",
    "-- сортировка результатов\n",
    "-- сортировка по умолчанию - ascending\n",
    "SELECT   pname, price, manufacturer\n",
    "FROM     Product\n",
    "WHERE    price > 50\n",
    "ORDER BY  price, pname"
   ]
  },
  {
   "cell_type": "code",
   "execution_count": 18,
   "metadata": {},
   "outputs": [
    {
     "name": "stdout",
     "output_type": "stream",
     "text": [
      " * sqlite://\n",
      "Done.\n"
     ]
    },
    {
     "data": {
      "text/html": [
       "<table>\n",
       "    <tr>\n",
       "        <th>price</th>\n",
       "        <th>manufacturer</th>\n",
       "    </tr>\n",
       "    <tr>\n",
       "        <td>149.99</td>\n",
       "        <td>WagonWiels</td>\n",
       "    </tr>\n",
       "    <tr>\n",
       "        <td>203.99</td>\n",
       "        <td>Zua</td>\n",
       "    </tr>\n",
       "    <tr>\n",
       "        <td>19.99</td>\n",
       "        <td>Тульский пряник</td>\n",
       "    </tr>\n",
       "    <tr>\n",
       "        <td>29.99</td>\n",
       "        <td>Эксмо</td>\n",
       "    </tr>\n",
       "</table>"
      ],
      "text/plain": [
       "[(149.99, 'WagonWiels'),\n",
       " (203.99, 'Zua'),\n",
       " (19.99, 'Тульский пряник'),\n",
       " (29.99, 'Эксмо')]"
      ]
     },
     "execution_count": 18,
     "metadata": {},
     "output_type": "execute_result"
    }
   ],
   "source": [
    "%%sql\n",
    "-- сортировка результатов\n",
    "-- тип сортировки каждого компонента определяется индивидуально\n",
    "SELECT   price, manufacturer\n",
    "FROM     Product\n",
    "ORDER BY   manufacturer ASC, price DESC"
   ]
  },
  {
   "cell_type": "markdown",
   "metadata": {},
   "source": [
    "Можно делать сортировку по порядковому номеру, но довольно часто это считается bad practice "
   ]
  },
  {
   "cell_type": "code",
   "execution_count": 19,
   "metadata": {},
   "outputs": [
    {
     "name": "stdout",
     "output_type": "stream",
     "text": [
      " * sqlite://\n",
      "Done.\n"
     ]
    },
    {
     "data": {
      "text/html": [
       "<table>\n",
       "    <tr>\n",
       "        <th>price</th>\n",
       "        <th>manufacturer</th>\n",
       "    </tr>\n",
       "    <tr>\n",
       "        <td>19.99</td>\n",
       "        <td>Тульский пряник</td>\n",
       "    </tr>\n",
       "    <tr>\n",
       "        <td>29.99</td>\n",
       "        <td>Эксмо</td>\n",
       "    </tr>\n",
       "    <tr>\n",
       "        <td>149.99</td>\n",
       "        <td>WagonWiels</td>\n",
       "    </tr>\n",
       "    <tr>\n",
       "        <td>203.99</td>\n",
       "        <td>Zua</td>\n",
       "    </tr>\n",
       "</table>"
      ],
      "text/plain": [
       "[(19.99, 'Тульский пряник'),\n",
       " (29.99, 'Эксмо'),\n",
       " (149.99, 'WagonWiels'),\n",
       " (203.99, 'Zua')]"
      ]
     },
     "execution_count": 19,
     "metadata": {},
     "output_type": "execute_result"
    }
   ],
   "source": [
    "%%sql\n",
    "SELECT   price, manufacturer\n",
    "FROM     Product\n",
    "ORDER BY   1 ASC, 2 DESC"
   ]
  },
  {
   "cell_type": "markdown",
   "metadata": {},
   "source": [
    "Работа с несколькими таблицами\n",
    "------\n",
    "\n",
    "\n",
    "* Рассмотрим таблицу компаний.\n",
    "> company(<u>cname</u>, stockprice, country)\n",
    " "
   ]
  },
  {
   "cell_type": "code",
   "execution_count": 21,
   "metadata": {},
   "outputs": [
    {
     "name": "stdout",
     "output_type": "stream",
     "text": [
      " * sqlite://\n",
      "Done.\n",
      "Done.\n",
      "Done.\n",
      "1 rows affected.\n",
      "1 rows affected.\n",
      "1 rows affected.\n"
     ]
    },
    {
     "data": {
      "text/plain": [
       "[]"
      ]
     },
     "execution_count": 21,
     "metadata": {},
     "output_type": "execute_result"
    }
   ],
   "source": [
    "%%sql\n",
    "drop table if exists product; -- This needs to be dropped if exists, see why further down!\n",
    "drop table if exists company;\n",
    "create table company (\n",
    "    cname varchar primary key, -- company name uniquely identifies the company.\n",
    "    stockprice money, -- stock price is in money \n",
    "    country varchar); -- country is just a string\n",
    "insert into company values ('Тульский пряник', 25.0, 'Россия');\n",
    "insert into company values ('Эксмо', 65.0, 'Россия');\n",
    "insert into company values ('Zua', 15.0, 'Китай');"
   ]
  },
  {
   "cell_type": "markdown",
   "metadata": {},
   "source": [
    "Внешние ключи\n",
    "-----------------------\n",
    "* Допустим мы ходим добавить таблицу продуктов\n",
    "\n",
    "> Product(pname, price, category, manufacturer)\n",
    "\n",
    "* Может возникнуть следующая ситуация: есть компания, продающая какие-то продукты, но при этом она отсутствует в таблице компаний.\n",
    "* Чтобы избежать это, воспользуемя _внешними ключами_ "
   ]
  },
  {
   "cell_type": "markdown",
   "metadata": {},
   "source": [
    "Назвнание компании в product _ссылается_ на поле cnma из таблицы company:\n",
    "\n",
    "> foreign key (manufacturer) references company(cname)\n",
    "\n",
    "  * Замечание: cname <u>должно быть</u> ключом в  company! \n",
    "  "
   ]
  },
  {
   "cell_type": "code",
   "execution_count": 22,
   "metadata": {},
   "outputs": [
    {
     "name": "stdout",
     "output_type": "stream",
     "text": [
      " * sqlite://\n",
      "Done.\n",
      "Done.\n",
      "Done.\n",
      "1 rows affected.\n",
      "1 rows affected.\n",
      "1 rows affected.\n",
      "1 rows affected.\n"
     ]
    },
    {
     "data": {
      "text/plain": [
       "[]"
      ]
     },
     "execution_count": 22,
     "metadata": {},
     "output_type": "execute_result"
    }
   ],
   "source": [
    "%%sql drop table if exists product;\n",
    "pragma foreign_keys = ON; -- WARNING by default off in sqlite\n",
    "create table product(\n",
    "       pname varchar primary key, -- name of the product\n",
    "       price money, -- price of the product\n",
    "       category varchar, -- category\n",
    "       manufacturer varchar, -- manufacturer\n",
    "       foreign key (manufacturer) references company(cname));\n",
    "\n",
    "insert into product values('Пряник', 19.99, 'Еда', 'Тульский пряник');\n",
    "insert into product values('Тетрадь', 29.99, 'Канцелярия', 'Эксмо');\n",
    "insert into product values('Печенье', 149.99, 'Еда', 'Тульский пряник');\n",
    "insert into product values('Планшет', 203.99, 'Техника', 'Zua');"
   ]
  },
  {
   "cell_type": "markdown",
   "metadata": {},
   "source": [
    "Внешние ключи являются _ограничениями_ таблицы \n",
    "> Что случится при вставке компании, которой не в таблице company?\n"
   ]
  },
  {
   "cell_type": "code",
   "execution_count": 23,
   "metadata": {},
   "outputs": [
    {
     "name": "stdout",
     "output_type": "stream",
     "text": [
      " * sqlite://\n",
      "(sqlite3.IntegrityError) FOREIGN KEY constraint failed [SQL: \"insert into product values('MultiTouch', 203.99, 'Household' , 'Google' );\"] (Background on this error at: http://sqlalche.me/e/gkpj)\n",
      "Rejected!\n"
     ]
    }
   ],
   "source": [
    "try:\n",
    "    %sql insert into product values('MultiTouch', 203.99, 'Household', 'Google');\n",
    "except Exception as e:\n",
    "    print (e)\n",
    "    print (\"Rejected!\")"
   ]
  },
  {
   "cell_type": "code",
   "execution_count": 24,
   "metadata": {},
   "outputs": [
    {
     "name": "stdout",
     "output_type": "stream",
     "text": [
      " * sqlite://\n",
      "Done.\n"
     ]
    },
    {
     "data": {
      "text/html": [
       "<table>\n",
       "    <tr>\n",
       "        <th>pname</th>\n",
       "        <th>price</th>\n",
       "        <th>category</th>\n",
       "        <th>manufacturer</th>\n",
       "    </tr>\n",
       "    <tr>\n",
       "        <td>Пряник</td>\n",
       "        <td>19.99</td>\n",
       "        <td>Еда</td>\n",
       "        <td>Тульский пряник</td>\n",
       "    </tr>\n",
       "    <tr>\n",
       "        <td>Тетрадь</td>\n",
       "        <td>29.99</td>\n",
       "        <td>Канцелярия</td>\n",
       "        <td>Эксмо</td>\n",
       "    </tr>\n",
       "    <tr>\n",
       "        <td>Печенье</td>\n",
       "        <td>149.99</td>\n",
       "        <td>Еда</td>\n",
       "        <td>Тульский пряник</td>\n",
       "    </tr>\n",
       "    <tr>\n",
       "        <td>Планшет</td>\n",
       "        <td>203.99</td>\n",
       "        <td>Техника</td>\n",
       "        <td>Zua</td>\n",
       "    </tr>\n",
       "</table>"
      ],
      "text/plain": [
       "[('Пряник', 19.99, 'Еда', 'Тульский пряник'),\n",
       " ('Тетрадь', 29.99, 'Канцелярия', 'Эксмо'),\n",
       " ('Печенье', 149.99, 'Еда', 'Тульский пряник'),\n",
       " ('Планшет', 203.99, 'Техника', 'Zua')]"
      ]
     },
     "execution_count": 24,
     "metadata": {},
     "output_type": "execute_result"
    }
   ],
   "source": [
    "%%sql\n",
    "-- the update is rejected!\n",
    "select * from product;"
   ]
  },
  {
   "cell_type": "markdown",
   "metadata": {},
   "source": [
    "Внешние ключи и удаление\n",
    "=============\n",
    "\n",
    "* Что произойдет, если мы удалим компанию ? Несколько вариантов:\n",
    "  * Запретить удаление (default)\n",
    "  * Удалить все продукты (добавьте \"`on delete cascade`\")\n",
    "  * Замена на  NULL или DEFAULT\n",
    "  "
   ]
  },
  {
   "cell_type": "code",
   "execution_count": 26,
   "metadata": {},
   "outputs": [
    {
     "name": "stdout",
     "output_type": "stream",
     "text": [
      " * sqlite://\n",
      "(sqlite3.IntegrityError) FOREIGN KEY constraint failed [SQL: \"delete from company where cname = 'Zua' ;\"] (Background on this error at: http://sqlalche.me/e/gkpj)\n",
      "Disallowed!\n"
     ]
    }
   ],
   "source": [
    "try:\n",
    "    %sql delete from company where cname = 'Zua';\n",
    "except Exception as e:\n",
    "    print (e)\n",
    "    print (\"Disallowed!\")"
   ]
  },
  {
   "cell_type": "markdown",
   "metadata": {},
   "source": [
    "**Второй вариант: удалить все продукты, принадлежащие компании, которую мы удаляем**\n",
    "\n",
    "Необходимо изменить опеределение в create table:\n",
    "> foreign key (manufacturer) references company(cname) on delete cascade\n",
    "\n",
    "Теперь, когда строка компании удалена, все продукты с указанной компанией, будут также удалены."
   ]
  },
  {
   "cell_type": "markdown",
   "metadata": {},
   "source": [
    "Соединения\n",
    "------\n",
    "> Product (<u>pname</u>,  price, category, manufacturer)<br>\n",
    "> Company (<u>cname</u>, stockPrice, country)\n",
    "\n",
    "Мы хотим ответить на вопрос\n",
    "\n",
    "> Найти все продукты меньшие 200$, произведенные в России\n",
    "> Возвратить их имена и цену. \n",
    "\n"
   ]
  },
  {
   "cell_type": "code",
   "execution_count": 29,
   "metadata": {},
   "outputs": [
    {
     "name": "stdout",
     "output_type": "stream",
     "text": [
      " * sqlite://\n",
      "Done.\n"
     ]
    },
    {
     "data": {
      "text/html": [
       "<table>\n",
       "    <tr>\n",
       "        <th>pname</th>\n",
       "        <th>price</th>\n",
       "    </tr>\n",
       "    <tr>\n",
       "        <td>Пряник</td>\n",
       "        <td>19.99</td>\n",
       "    </tr>\n",
       "    <tr>\n",
       "        <td>Тетрадь</td>\n",
       "        <td>29.99</td>\n",
       "    </tr>\n",
       "    <tr>\n",
       "        <td>Печенье</td>\n",
       "        <td>149.99</td>\n",
       "    </tr>\n",
       "</table>"
      ],
      "text/plain": [
       "[('Пряник', 19.99), ('Тетрадь', 29.99), ('Печенье', 149.99)]"
      ]
     },
     "execution_count": 29,
     "metadata": {},
     "output_type": "execute_result"
    }
   ],
   "source": [
    "%%sql\n",
    "SELECT pname, price\n",
    "FROM product, company\n",
    "where manufacturer=cname and country='Россия' and price <= 200;"
   ]
  },
  {
   "cell_type": "markdown",
   "metadata": {},
   "source": [
    "Другой вариант написания запроса."
   ]
  },
  {
   "cell_type": "code",
   "execution_count": 31,
   "metadata": {},
   "outputs": [
    {
     "name": "stdout",
     "output_type": "stream",
     "text": [
      " * sqlite://\n",
      "(sqlite3.OperationalError) near \"Часть\": syntax error [SQL: \"Часть 1: выбрать все компании из России\\nSELECT distinct cname -- нужна ли нам уникальность?\\nfrom company where country='Россия';\"] (Background on this error at: http://sqlalche.me/e/e3q8)\n"
     ]
    }
   ],
   "source": [
    "%%sql -- Часть 1: выбрать все компании из России\n",
    "SELECT distinct cname -- нужна ли нам уникальность?\n",
    "from company where country='Россия';"
   ]
  },
  {
   "cell_type": "code",
   "execution_count": 32,
   "metadata": {},
   "outputs": [
    {
     "name": "stdout",
     "output_type": "stream",
     "text": [
      " * sqlite://\n",
      "(sqlite3.OperationalError) near \"Part\": syntax error [SQL: 'Part 2: Продукты до 200\\nselect distinct pname, price, manufacturer\\nfrom product\\nwhere price <= 200;'] (Background on this error at: http://sqlalche.me/e/e3q8)\n"
     ]
    }
   ],
   "source": [
    "%%sql -- Part 2: Продукты до 200\n",
    "select distinct pname, price, manufacturer\n",
    "from product\n",
    "where price <= 200;"
   ]
  },
  {
   "cell_type": "code",
   "execution_count": 33,
   "metadata": {},
   "outputs": [
    {
     "name": "stdout",
     "output_type": "stream",
     "text": [
      " * sqlite://\n",
      "(sqlite3.OperationalError) near \"Объединение\": syntax error [SQL: \"Объединение как cross join\\nSELECT * \\nFROM \\n  (SELECT DISTINCT pname, price, manufacturer\\n   FROM product\\n   WHERE price <= 200) CheapProducts,\\n  (SELECT DISTINCT cname\\n   FROM company\\n   WHERE country='Россия') JapaneseProducts;\"] (Background on this error at: http://sqlalche.me/e/e3q8)\n"
     ]
    }
   ],
   "source": [
    "%%sql -- Объединение как cross join\n",
    "SELECT * \n",
    "FROM \n",
    "  (SELECT DISTINCT pname, price, manufacturer\n",
    "   FROM product\n",
    "   WHERE price <= 200) CheapProducts,\n",
    "  (SELECT DISTINCT cname\n",
    "   FROM company\n",
    "   WHERE country='Россия') JapaneseProducts;"
   ]
  },
  {
   "cell_type": "code",
   "execution_count": 34,
   "metadata": {},
   "outputs": [
    {
     "name": "stdout",
     "output_type": "stream",
     "text": [
      " * sqlite://\n",
      "Done.\n"
     ]
    },
    {
     "data": {
      "text/html": [
       "<table>\n",
       "    <tr>\n",
       "        <th>pname</th>\n",
       "        <th>price</th>\n",
       "    </tr>\n",
       "    <tr>\n",
       "        <td>Печенье</td>\n",
       "        <td>149.99</td>\n",
       "    </tr>\n",
       "    <tr>\n",
       "        <td>Пряник</td>\n",
       "        <td>19.99</td>\n",
       "    </tr>\n",
       "    <tr>\n",
       "        <td>Тетрадь</td>\n",
       "        <td>29.99</td>\n",
       "    </tr>\n",
       "</table>"
      ],
      "text/plain": [
       "[('Печенье', 149.99), ('Пряник', 19.99), ('Тетрадь', 29.99)]"
      ]
     },
     "execution_count": 34,
     "metadata": {},
     "output_type": "execute_result"
    }
   ],
   "source": [
    "%%sql\n",
    "-- Фильтруем cross join\n",
    "SELECT DISTINCT pname, price\n",
    "FROM \n",
    "  (SELECT DISTINCT pname, price, manufacturer\n",
    "   FROM product\n",
    "   WHERE price <= 200) CheapProducts,\n",
    "  (SELECT distinct cname\n",
    "   FROM company\n",
    "   WHERE country='Россия') JapaneseProducts\n",
    "WHERE cname = manufacturer;"
   ]
  },
  {
   "cell_type": "markdown",
   "metadata": {},
   "source": [
    "# Использование конструкции JOIN\n",
    "\n",
    "Есть другой вариант записи - через конструкцию JOIN. Кроме этого она позволяет делать также внешние запросы.\n",
    "\n"
   ]
  },
  {
   "cell_type": "code",
   "execution_count": 36,
   "metadata": {},
   "outputs": [
    {
     "name": "stdout",
     "output_type": "stream",
     "text": [
      " * sqlite://\n",
      "Done.\n"
     ]
    },
    {
     "data": {
      "text/html": [
       "<table>\n",
       "    <tr>\n",
       "        <th>pname</th>\n",
       "        <th>price</th>\n",
       "    </tr>\n",
       "    <tr>\n",
       "        <td>Пряник</td>\n",
       "        <td>19.99</td>\n",
       "    </tr>\n",
       "    <tr>\n",
       "        <td>Тетрадь</td>\n",
       "        <td>29.99</td>\n",
       "    </tr>\n",
       "    <tr>\n",
       "        <td>Печенье</td>\n",
       "        <td>149.99</td>\n",
       "    </tr>\n",
       "</table>"
      ],
      "text/plain": [
       "[('Пряник', 19.99), ('Тетрадь', 29.99), ('Печенье', 149.99)]"
      ]
     },
     "execution_count": 36,
     "metadata": {},
     "output_type": "execute_result"
    }
   ],
   "source": [
    "%%sql\n",
    "SELECT pname, \n",
    "       price\n",
    "  FROM product p \n",
    "  JOIN company c \n",
    "    ON p.manufacturer = c.cname\n",
    " WHERE c.country='Россия' \n",
    "   AND p.price <= 200;"
   ]
  },
  {
   "cell_type": "markdown",
   "metadata": {},
   "source": [
    "Примечания\n",
    "--------\n",
    "* Есть множество логических вариантов написать один и тот же запрос\n",
    "    * Этот факт будет использоваться для оптимизации"
   ]
  },
  {
   "cell_type": "code",
   "execution_count": null,
   "metadata": {},
   "outputs": [],
   "source": []
  }
 ],
 "metadata": {
  "kernelspec": {
   "display_name": "Python 3",
   "language": "python",
   "name": "python3"
  },
  "language_info": {
   "codemirror_mode": {
    "name": "ipython",
    "version": 3
   },
   "file_extension": ".py",
   "mimetype": "text/x-python",
   "name": "python",
   "nbconvert_exporter": "python",
   "pygments_lexer": "ipython3",
   "version": "3.7.0"
  }
 },
 "nbformat": 4,
 "nbformat_minor": 2
}
