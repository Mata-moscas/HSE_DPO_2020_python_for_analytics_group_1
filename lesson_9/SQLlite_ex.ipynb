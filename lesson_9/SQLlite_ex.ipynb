{
 "cells": [
  {
   "cell_type": "markdown",
   "metadata": {},
   "source": [
    "# Python для сбора и обработки данных\n",
    "\n",
    "Автор: Валентин Бирюков"
   ]
  },
  {
   "cell_type": "code",
   "execution_count": 5,
   "metadata": {},
   "outputs": [],
   "source": [
    "%load_ext sql\n",
    "%sql sqlite:///tst_1.db"
   ]
  },
  {
   "cell_type": "code",
   "execution_count": 6,
   "metadata": {},
   "outputs": [
    {
     "name": "stdout",
     "output_type": "stream",
     "text": [
      " * sqlite:///tst_1.db\n",
      "Done.\n",
      "Done.\n",
      "1 rows affected.\n",
      "1 rows affected.\n",
      "1 rows affected.\n",
      "Done.\n",
      "Done.\n",
      "Done.\n",
      "1 rows affected.\n",
      "1 rows affected.\n",
      "1 rows affected.\n",
      "1 rows affected.\n",
      "1 rows affected.\n"
     ]
    },
    {
     "data": {
      "text/plain": [
       "[]"
      ]
     },
     "execution_count": 6,
     "metadata": {},
     "output_type": "execute_result"
    }
   ],
   "source": [
    "%%sql\n",
    "drop table if exists Faculties;\n",
    "\n",
    "CREATE TABLE Faculties \n",
    "(\n",
    "    id integer primary key, \n",
    "    Name varchar(50)\n",
    ");\n",
    "insert Into Faculties(id, name) values (1, 'KIB');\n",
    "insert Into Faculties(id, name) values (2, 'IT');\n",
    "insert Into Faculties(id, name) values (3, 'Economics');\n",
    "\n",
    "\n",
    "PRAGMA foreign_keys = ON;\n",
    "\n",
    "drop table if exists Students;\n",
    "\n",
    "CREATE TABLE Students \n",
    "(\n",
    "    student_id integer primary key, \n",
    "    Name varchar(50),\n",
    "    SecondName varchar(50), \n",
    "    Faculty_id integer ,\n",
    "    StudyGroup varchar(20),\n",
    "    GPA number,\n",
    "    foreign key(faculty_id) references  Faculties(id)\n",
    ");\n",
    "\n",
    "insert into Students(student_id, Name, SecondName, Faculty_id, StudyGroup, GPA) VALUES (1, 'Anton', 'Sidorov', 1, '101', 3.5);\n",
    "insert into Students(student_id, Name, SecondName, Faculty_id, StudyGroup, GPA) VALUES (2, 'Alexey', 'Petrov', 2, '201', 3.3);\n",
    "insert into Students(student_id, Name, SecondName, Faculty_id, StudyGroup, GPA) VALUES (3, 'Ivan', 'Meshkov', 1, '101', 4.5);\n",
    "insert into Students(student_id, Name, SecondName, Faculty_id, StudyGroup, GPA) VALUES (4, 'Elena', 'Kvitova', 3, '301', 4.8);\n",
    "insert into Students(student_id, Name, SecondName, Faculty_id, StudyGroup, GPA) VALUES (5, 'Darya', 'Salnikova', 2, '202', 3.4);"
   ]
  },
  {
   "cell_type": "markdown",
   "metadata": {},
   "source": [
    "Задание 1. Напишите SQL-запрос, возвращающий ваше имя"
   ]
  },
  {
   "cell_type": "code",
   "execution_count": null,
   "metadata": {},
   "outputs": [],
   "source": []
  },
  {
   "cell_type": "markdown",
   "metadata": {},
   "source": [
    "Задание 2. Напишите SQL-запрос, возвращающий имена всех студентов с фамилией Sidorov"
   ]
  },
  {
   "cell_type": "code",
   "execution_count": null,
   "metadata": {},
   "outputs": [],
   "source": []
  },
  {
   "cell_type": "markdown",
   "metadata": {},
   "source": [
    "Задание 3. Выведите все названия факультетов, на которых учится хотя бы один студент со средним баллом не менее 4. Имя факультета должно встречаться один раз в выводе"
   ]
  },
  {
   "cell_type": "code",
   "execution_count": null,
   "metadata": {},
   "outputs": [],
   "source": []
  },
  {
   "cell_type": "markdown",
   "metadata": {},
   "source": [
    "Задание 4. Вывести только тех студентов, фамилия которых начинается с 'S', а в имени присутствует 'a'."
   ]
  },
  {
   "cell_type": "code",
   "execution_count": null,
   "metadata": {},
   "outputs": [],
   "source": []
  },
  {
   "cell_type": "markdown",
   "metadata": {},
   "source": [
    "Задание 5. Вывести только те факультеты, количество групп в которых больше 3"
   ]
  },
  {
   "cell_type": "code",
   "execution_count": null,
   "metadata": {},
   "outputs": [],
   "source": []
  },
  {
   "cell_type": "markdown",
   "metadata": {},
   "source": [
    "Задание 6. Для всех факультетов вывести средний балл по факультету для студентов, чья фамилия не содержит в себе подстроку 'ov', при условии, что количество таких студентов на факультете не менее 3. В обратном случае, факультет выводить не требуется"
   ]
  },
  {
   "cell_type": "code",
   "execution_count": null,
   "metadata": {},
   "outputs": [],
   "source": []
  },
  {
   "cell_type": "markdown",
   "metadata": {},
   "source": [
    "Больше практики\n",
    "------------------\n",
    "https://www.sql-ex.ru/"
   ]
  },
  {
   "cell_type": "code",
   "execution_count": null,
   "metadata": {},
   "outputs": [],
   "source": []
  }
 ],
 "metadata": {
  "kernelspec": {
   "display_name": "Python 3",
   "language": "python",
   "name": "python3"
  },
  "language_info": {
   "codemirror_mode": {
    "name": "ipython",
    "version": 3
   },
   "file_extension": ".py",
   "mimetype": "text/x-python",
   "name": "python",
   "nbconvert_exporter": "python",
   "pygments_lexer": "ipython3",
   "version": "3.7.0"
  }
 },
 "nbformat": 4,
 "nbformat_minor": 2
}
