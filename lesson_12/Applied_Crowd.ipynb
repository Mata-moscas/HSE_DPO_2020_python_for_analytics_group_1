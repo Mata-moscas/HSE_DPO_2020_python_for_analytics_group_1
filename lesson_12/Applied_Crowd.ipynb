{
 "cells": [
  {
   "cell_type": "markdown",
   "metadata": {},
   "source": [
    "# Python для сбора и обработки данных\n",
    "\n",
    "Автор: Валентин Бирюков"
   ]
  },
  {
   "cell_type": "markdown",
   "metadata": {},
   "source": [
    "# Краудсорсинг, ML и продакшон"
   ]
  },
  {
   "cell_type": "markdown",
   "metadata": {},
   "source": [
    "Вспомним, что мы работали в проекте \"Крутые вещи и не только\", и уже успели поковыряться для нашего мелкого стартапа с аналитикой.\n",
    "Мы подготовили всю продукцию, провели все сравнительные анализы, бэкендеры написали бэкенд, фронтендеры написали фронтенд... В общем запуск через пару дней, \"все идет по плану\".\n",
    "\n",
    "Почти. Тут наши, допустим, продуктологи вспоминают что вообще-то мы предложили \"аааабсолютно\" новую возможность - обсуждать товар прям рядом с карточкой. Не только озывы после покупки, которые может оставить уже не так уж много людей - но прям в режиме живого времени комментировать классный это товар или нет (еще бы, ведь мы хотим поддерживать самую свежую базу товаров).\n",
    "\n",
    "Но люди чуть-чуть не вписались в нашу модель. Они ведь могут оставить непойми что! Хоть мат, хоть рекламу других сервисов. Надо что-то придумывать.\n",
    "\n",
    "Окей, базовый мат вырежем регулярками, ссылки запретим публиковать, но за всем не усмотришь, а русский язык велик и могуч! И вот вся надежда на нас, аналитиков, что мы то уж придумаем, как разобраться с такими данными.\n",
    "\n",
    "Варианты наши одновременно обширны и скудны:\n",
    "- помочь писать регулярки?\n",
    "- обучить модель? но где найти разметку?\n",
    "- штат модерации? нанимать людей, писать новые доступы в админку - сорвем все запуски.\n",
    "\n",
    "И, наслушавшись лекций мы решаем пребегнуть к краудсорсингу."
   ]
  },
  {
   "cell_type": "markdown",
   "metadata": {},
   "source": [
    "В рамках данного Задания мы попробуем построить кусочки для \"автоматического\" (масштабируемого, дешевого) анализа текстовых комментариев. В качестве источника таковых комментариев возьмем Двач (анонимную страницу), и попробуем отмодерировать коментарии на ней"
   ]
  },
  {
   "cell_type": "markdown",
   "metadata": {},
   "source": [
    "# Начальная заготовка"
   ]
  },
  {
   "cell_type": "code",
   "execution_count": 3,
   "metadata": {},
   "outputs": [],
   "source": [
    "import urllib\n",
    "import urllib.request\n",
    "from bs4 import BeautifulSoup\n",
    "import re\n",
    "\n",
    "user_agent = 'Mozilla/5.0 (Windows; U; Windows NT 5.1; en-US; rv:1.9.0.7) Gecko/2009021910 Firefox/3.0.7'\n",
    "\n",
    "headers={'User-Agent':user_agent,} \n",
    "\n",
    "def make_soup(url):\n",
    "    print(url)\n",
    "    request= urllib.request.Request(url, None,headers)\n",
    "    thepage = urllib.request.urlopen(request)\n",
    "    soupdata = BeautifulSoup(thepage, \"html.parser\")\n",
    "    return soupdata"
   ]
  },
  {
   "cell_type": "markdown",
   "metadata": {},
   "source": [
    "# Научимся \"обходить\" двач"
   ]
  },
  {
   "cell_type": "markdown",
   "metadata": {},
   "source": [
    "В рамках данной работы делать этого мы, конечно же не будем, но бдительный читатель и сам прикинет как это сделать - оно похожее на обход разных категорий в сборе данных с других площадок."
   ]
  },
  {
   "cell_type": "code",
   "execution_count": null,
   "metadata": {},
   "outputs": [],
   "source": []
  },
  {
   "cell_type": "markdown",
   "metadata": {},
   "source": [
    "# Соберем данные из одной страницы для разметки"
   ]
  },
  {
   "cell_type": "code",
   "execution_count": 4,
   "metadata": {},
   "outputs": [],
   "source": [
    "page = 'https://2ch.hk/pr/res/1647485.html'"
   ]
  },
  {
   "cell_type": "code",
   "execution_count": null,
   "metadata": {},
   "outputs": [],
   "source": []
  },
  {
   "cell_type": "markdown",
   "metadata": {},
   "source": [
    "# Подключимся к толоке\n",
    "\n",
    "проекты/инструкции и все такое подготовим один раз в интерфейсе - как никак один раз может проще и руками."
   ]
  },
  {
   "cell_type": "code",
   "execution_count": 5,
   "metadata": {},
   "outputs": [],
   "source": [
    "TOKEN = 'MY_TOKEN'"
   ]
  },
  {
   "cell_type": "code",
   "execution_count": null,
   "metadata": {},
   "outputs": [],
   "source": []
  },
  {
   "cell_type": "markdown",
   "metadata": {},
   "source": [
    "# Загрузим все данные"
   ]
  },
  {
   "cell_type": "code",
   "execution_count": null,
   "metadata": {},
   "outputs": [],
   "source": []
  },
  {
   "cell_type": "markdown",
   "metadata": {},
   "source": [
    "# Получим результат разметки"
   ]
  },
  {
   "cell_type": "code",
   "execution_count": null,
   "metadata": {},
   "outputs": [],
   "source": []
  },
  {
   "cell_type": "markdown",
   "metadata": {},
   "source": [
    "# Проведем аггрегацию результатов"
   ]
  },
  {
   "cell_type": "code",
   "execution_count": null,
   "metadata": {},
   "outputs": [],
   "source": []
  }
 ],
 "metadata": {
  "kernelspec": {
   "display_name": "Python 3",
   "language": "python",
   "name": "python3"
  },
  "language_info": {
   "codemirror_mode": {
    "name": "ipython",
    "version": 3
   },
   "file_extension": ".py",
   "mimetype": "text/x-python",
   "name": "python",
   "nbconvert_exporter": "python",
   "pygments_lexer": "ipython3",
   "version": "3.7.0"
  }
 },
 "nbformat": 4,
 "nbformat_minor": 2
}
