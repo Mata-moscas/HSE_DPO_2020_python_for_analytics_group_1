{
 "cells": [
  {
   "cell_type": "markdown",
   "metadata": {},
   "source": [
    "# Python для сбора и обработки данных\n",
    "\n",
    "Автор: Валентин Бирюков"
   ]
  },
  {
   "cell_type": "markdown",
   "metadata": {},
   "source": [
    "# Алгоритмы, аналитика и жизнь"
   ]
  },
  {
   "cell_type": "markdown",
   "metadata": {},
   "source": [
    "Знание алгоритмов и структур данных часто считается одним из ключевых преквезитов, при приеме на работу аналитиков/разработчиков/etc. Однако, нередко их изучение и дальнейшая работа кажется никак не связанной с этими навыками, а если и связанной - то все уже реализованно за нас. На этом занятии мы экскурсно рассмотрим типичные задачи, используемых в них трюки и попытаемся связать это с ситуациями, которые могут возникать в рядовой практике.\n",
    "\n",
    "Материал задач частично позаимствован с ресурса https://leetcode.com/ - на котором собранны материалы различных \"тестовых\" заданий собеседовани.\n",
    "\n",
    "\n",
    "Источник для куч алгоритмов любой сложности https://e-maxx.ru/algo/"
   ]
  },
  {
   "cell_type": "markdown",
   "metadata": {},
   "source": [
    "## Немного матчасти"
   ]
  },
  {
   "cell_type": "markdown",
   "metadata": {},
   "source": [
    "| Обозначение | Интуитивное объяснение | Определение |\n",
    "| ----------- | ---------------------- | ----------- |\n",
    "|$f(n) \\in O(g(n))$|$f$ ограничена сверху функцией $g$ (с точностью до постоянного множителя) асимптотически|$\\exists (C>0), n_0 : \\forall(n>n_0) \\; |f(n)| \\leq |Cg(n)| $ или $  \\exists (C>0), n_0 : \\forall(n>n_0) \\; f(n) \\leq Cg(n)$|\n",
    "|$f(n) \\in \\Omega(g(n))$|$f$ ограничена снизу функцией $g$ (с точностью до постоянного множителя) асимптотически|$\\exists (C>0), n_0 : \\forall (n>n_0) \\; |Cg(n)| \\leq |f(n)|$|\n",
    "|$f(n) \\in \\Theta(g(n))$|$f$ ограничена снизу и сверху функцией $g$ асимптотически|$\\exists (C,C'>0), n_0 : \\forall (n>n_0) \\; |Cg(n)| \\leq |f(n)| \\leq |C'g(n)| $|\n",
    "|$f(n) \\in o(g(n))$|$g$ доминирует над $f$ асимптотически|$\\forall (C>0),\\exists n_0 : \\forall(n>n_0) \\; |f(n)| < |Cg(n)|$|\n",
    "|$f(n) \\in \\omega(g(n))$|$f$ доминирует над $g$ асимптотически|$\\forall (C>0),\\exists n_0 : \\forall(n>n_0) \\; |Cg(n)| < |f(n)|$|\n",
    "|$f(n) \\sim g(n)$|$f$ эквивалентна $g$ асимптотически|$\\lim_{n \\to \\infty} \\frac{f(n)}{g(n)} = 1$|"
   ]
  },
  {
   "cell_type": "markdown",
   "metadata": {},
   "source": [
    "## Примеры в коде"
   ]
  },
  {
   "cell_type": "code",
   "execution_count": 2,
   "metadata": {},
   "outputs": [],
   "source": [
    "import time\n",
    "\n",
    "# наша некоторая функция, количество вызовов которой мы будем оценивать сложность\n",
    "def do_something(param):\n",
    "    pass"
   ]
  },
  {
   "cell_type": "code",
   "execution_count": 5,
   "metadata": {},
   "outputs": [],
   "source": [
    "n = 100\n",
    "\n",
    "# линейная сложность по параметру n\n",
    "for i in range(n):\n",
    "    do_something(1)\n",
    "\n",
    "    \n",
    "# константная сложность\n",
    "for i in range(42):\n",
    "    do_something(1)\n",
    "    \n",
    "    \n",
    "# квадратичная сложность по параметру n\n",
    "for i in range(n):\n",
    "    for j in range(n):\n",
    "        do_something(1)"
   ]
  },
  {
   "cell_type": "markdown",
   "metadata": {},
   "source": [
    "# Задача 1 - Палиндром"
   ]
  },
  {
   "cell_type": "markdown",
   "metadata": {},
   "source": [
    "Написать функцию, которая проверяет, является ли заданная строка палиндромом. Функция должна быть эффективна по времени и по памяти"
   ]
  },
  {
   "cell_type": "code",
   "execution_count": null,
   "metadata": {},
   "outputs": [],
   "source": []
  },
  {
   "cell_type": "markdown",
   "metadata": {},
   "source": [
    "# Задача 2 - Суммы двух"
   ]
  },
  {
   "cell_type": "markdown",
   "metadata": {},
   "source": [
    "Вариация 1\n",
    "\n",
    "Есть массив целых чисел. И есть заданное целевое значение. Нужно найти в массиве два числа которые равны заданному целевому"
   ]
  },
  {
   "cell_type": "code",
   "execution_count": null,
   "metadata": {},
   "outputs": [],
   "source": []
  },
  {
   "cell_type": "markdown",
   "metadata": {},
   "source": [
    "Вариация 2\n",
    "\n",
    "Теперь массив сортированны. Но найти нужно значение которое ближе всего к целевому (по модулю разность минимальна)."
   ]
  },
  {
   "cell_type": "code",
   "execution_count": null,
   "metadata": {},
   "outputs": [],
   "source": []
  },
  {
   "cell_type": "markdown",
   "metadata": {},
   "source": [
    "Вариация 3\n",
    "\n",
    "Снова забудем сортировку. На исходном массиве нужно найти два индекса, сумма значений между которыми равна целевому значению"
   ]
  },
  {
   "cell_type": "code",
   "execution_count": null,
   "metadata": {},
   "outputs": [],
   "source": []
  },
  {
   "cell_type": "markdown",
   "metadata": {},
   "source": [
    "# Задача 3 - Про строки"
   ]
  },
  {
   "cell_type": "markdown",
   "metadata": {},
   "source": [
    "Вариация 1\n",
    "\n",
    "Есть текст T, хотим найти в нем подстроку максимальной длины без повторяющихся символов в ней"
   ]
  },
  {
   "cell_type": "code",
   "execution_count": null,
   "metadata": {},
   "outputs": [],
   "source": []
  },
  {
   "cell_type": "markdown",
   "metadata": {},
   "source": [
    "Вариация 2\n",
    "\n",
    "Снова текст, снова хотим найти подстроку в нем, но теперь так, чтобы количество различных символов в ней было не больше N."
   ]
  },
  {
   "cell_type": "code",
   "execution_count": null,
   "metadata": {},
   "outputs": [],
   "source": []
  },
  {
   "cell_type": "markdown",
   "metadata": {},
   "source": [
    "Вариация 3\n",
    "\n",
    "Есть текст, есть шаблон S, хотим найти в тексте равную шаблону подстроку с точностью до перестановки букв (анаграму)"
   ]
  },
  {
   "cell_type": "code",
   "execution_count": null,
   "metadata": {},
   "outputs": [],
   "source": []
  },
  {
   "cell_type": "markdown",
   "metadata": {},
   "source": [
    "# Задача 4 - про скобки"
   ]
  },
  {
   "cell_type": "markdown",
   "metadata": {},
   "source": [
    "Вариация 1\n",
    "\n",
    "На вход подана строка состоящая исключительно из скобок (,),\\[,\\],{,} необходимо проверить является ли эта последовательность правильной скобочной последовательностью."
   ]
  },
  {
   "cell_type": "code",
   "execution_count": null,
   "metadata": {},
   "outputs": [],
   "source": []
  },
  {
   "cell_type": "markdown",
   "metadata": {},
   "source": [
    "Вариация 2\n",
    "\n",
    "В файле (строке) записан json массив из словарей. необходимо обработать каждый словарь отдельно, не разворачивая всю строку в памяти (например, размер файла 1гб)"
   ]
  },
  {
   "cell_type": "code",
   "execution_count": null,
   "metadata": {},
   "outputs": [],
   "source": []
  }
 ],
 "metadata": {
  "kernelspec": {
   "display_name": "Python 3",
   "language": "python",
   "name": "python3"
  },
  "language_info": {
   "codemirror_mode": {
    "name": "ipython",
    "version": 3
   },
   "file_extension": ".py",
   "mimetype": "text/x-python",
   "name": "python",
   "nbconvert_exporter": "python",
   "pygments_lexer": "ipython3",
   "version": "3.7.0"
  }
 },
 "nbformat": 4,
 "nbformat_minor": 2
}
